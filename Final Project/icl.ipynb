{
 "cells": [
  {
   "cell_type": "code",
   "execution_count": 3,
   "metadata": {},
   "outputs": [
    {
     "name": "stdout",
     "output_type": "stream",
     "text": [
      "Based on the review, I predict that the type of restaurant is:\n",
      "\n",
      "* American (New)\n",
      "\n",
      "Reasons for this prediction are:\n",
      "\n",
      "* The reviewer mentions a \"taco night\" and exceptional taco selection, which suggests a modern twist on traditional American cuisine.\n",
      "* The menu options mentioned include burgers, wraps, and chicken, which are common items found in contemporary American restaurants.\n",
      "* The review also highlights the bar scene and beer selection, which is another characteristic of many new American restaurants.\n",
      "\n",
      "The other categories don't seem to be a good fit based on the review's language and focus.\n"
     ]
    }
   ],
   "source": [
    "import ollama\n",
    "response = ollama.chat(model='llama3', messages=[\n",
    "  {\n",
    "    'role': 'user',\n",
    "    'content': \"Predict the type of restaurant from the review: stop way side quest street know expect come taco night glad mostly rush inn bar ish place plenty back side seat booth place dark rich wood tone patron decent folk taco exceptional selection quite good sort stuff intend try soon possible think place would make nice casual dinner lunch stop need get beverage barkeep wait staff keep come quick tasty bite walk slow rush rush inn boyfriend heard little place near rush inn offer board game poutine friday arrive food chef show venture place block great vibe inside typical bar scene great booze selection decently large menu choose order grill chicken wrap smother buffalo boyfriend order soft crab sandwich delicious huge foodie consider pretty tune good eats around cleveland treasure find definitely go back whoever say typical bar food nut bar stir fry veggie dish home make mash potato home make soup flat bread pizza peroghes fresh veggie place outstanding menu huge varied something everyone sure burger night wednesday mention staff accommodate friendly plus music play great great local bar serve really good food bar food really good food continuous consistency party adult kid best wing lakewood visit tasty bbq zesty teriyaki also generous side potato skin mozzarella stick others party rave burger potato pancake really good fry timely service busy friday night good noise level kid never issue whether another booth friendly staff night always seafood steak dish always satisfy previous visit would expect bar food spot keep second time rush inn great food service time atmoshere would expect nothing fancy clean comfortable fish sandwich one best ever well cooked unique tartar sauce super fresh bun food come really fast waitress checked u often annoy way. It falls into below categories: ['american (traditional)' 'american (new)' 'mexican' 'chinese' 'mediterranean' 'italian' 'thai' 'asian fusion' 'canadian (new)' 'japanese']'\"\n",
    "  },\n",
    "])\n",
    "print(response['message']['content'])"
   ]
  }
 ],
 "metadata": {
  "kernelspec": {
   "display_name": "Python 3",
   "language": "python",
   "name": "python3"
  },
  "language_info": {
   "codemirror_mode": {
    "name": "ipython",
    "version": 3
   },
   "file_extension": ".py",
   "mimetype": "text/x-python",
   "name": "python",
   "nbconvert_exporter": "python",
   "pygments_lexer": "ipython3",
   "version": "3.11.5"
  }
 },
 "nbformat": 4,
 "nbformat_minor": 2
}
